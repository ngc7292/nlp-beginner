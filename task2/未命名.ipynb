{
 "cells": [
  {
   "cell_type": "code",
   "execution_count": 1,
   "metadata": {},
   "outputs": [],
   "source": [
    "from data_load import get_dataloader\n",
    "from model import TextCnn,TextRnn\n",
    "import numpy as np\n",
    "\n",
    "import torch\n",
    "import torch.nn as nn\n",
    "import torch.nn.functional as F\n",
    "from torch import optim\n"
   ]
  },
  {
   "cell_type": "code",
   "execution_count": 2,
   "metadata": {},
   "outputs": [
    {
     "name": "stderr",
     "output_type": "stream",
     "text": [
      "  3%|▎         | 5252/156060 [00:00<00:02, 51822.58it/s]"
     ]
    },
    {
     "name": "stdout",
     "output_type": "stream",
     "text": [
      "Construct Corpus...\n"
     ]
    },
    {
     "name": "stderr",
     "output_type": "stream",
     "text": [
      "100%|██████████| 156060/156060 [00:02<00:00, 64865.92it/s]\n",
      "  8%|▊         | 12212/156060 [00:00<00:01, 122116.04it/s]"
     ]
    },
    {
     "name": "stdout",
     "output_type": "stream",
     "text": [
      "Convert Corpus to Integers\n",
      "Convert Phrase to Integers\n"
     ]
    },
    {
     "name": "stderr",
     "output_type": "stream",
     "text": [
      "100%|██████████| 156060/156060 [00:01<00:00, 80942.20it/s]\n",
      "100%|██████████| 156060/156060 [00:00<00:00, 227694.79it/s]\n"
     ]
    },
    {
     "name": "stdout",
     "output_type": "stream",
     "text": [
      "loading vec embeding models...\n"
     ]
    },
    {
     "name": "stderr",
     "output_type": "stream",
     "text": [
      "  0%|          | 0/16532 [00:00<?, ?it/s]/remote-home/zyfei/nlp-beginner/task2/data_load.py:82: UserWarning: The given NumPy array is not writeable, and PyTorch does not support non-writeable tensors. This means you can write to the underlying (supposedly non-writeable) NumPy array using the tensor. You may want to copy the array to protect its data or make it writeable before converting it to a tensor. This type of warning will be suppressed for the rest of this program. (Triggered internally at  /opt/conda/conda-bld/pytorch_1595629403081/work/torch/csrc/utils/tensor_numpy.cpp:141.)\n",
      "  res[idx] = torch.tensor(model.get_vector(word))\n",
      " 14%|█▍        | 2390/16532 [00:00<00:00, 23888.52it/s]"
     ]
    },
    {
     "name": "stdout",
     "output_type": "stream",
     "text": [
      "convert models...\n"
     ]
    },
    {
     "name": "stderr",
     "output_type": "stream",
     "text": [
      "100%|██████████| 16532/16532 [00:00<00:00, 33414.79it/s]\n"
     ]
    },
    {
     "name": "stdout",
     "output_type": "stream",
     "text": [
      "total 16532 words and in glove find 15248 words\n"
     ]
    }
   ],
   "source": [
    "lr = 0.05\n",
    "epoches = 50\n",
    "class_num = 5\n",
    "batch_size = 32\n",
    "sentence_len = 50\n",
    "\n",
    "model_list = [\"rnn\", \"cnn\"]\n",
    "\n",
    "train_loader, test_loader, embed_pretrain, vocab_size = get_dataloader()\n",
    "# model = TextRnn(vocab_size=vocab_size, embedding_dim=50, hidden_size=128, class_num=class_num, embedding_pretrained = embed_pretrain)\n",
    "        # if model_type == \"cnn\": model = TextCnn(vocab_size=vocab_size, embedding_dim=50, hidden_size=128,\n",
    "        # class_num=class_num,  embedding_pretrained=embed_pretrain)"
   ]
  },
  {
   "cell_type": "code",
   "execution_count": 3,
   "metadata": {},
   "outputs": [
    {
     "ename": "NameError",
     "evalue": "name 'model' is not defined",
     "output_type": "error",
     "traceback": [
      "\u001b[0;31m---------------------------------------------------------------------------\u001b[0m",
      "\u001b[0;31mNameError\u001b[0m                                 Traceback (most recent call last)",
      "\u001b[0;32m<ipython-input-3-1f8a688cae5d>\u001b[0m in \u001b[0;36m<module>\u001b[0;34m\u001b[0m\n\u001b[0;32m----> 1\u001b[0;31m \u001b[0mmodel\u001b[0m\u001b[0;34m\u001b[0m\u001b[0;34m\u001b[0m\u001b[0m\n\u001b[0m",
      "\u001b[0;31mNameError\u001b[0m: name 'model' is not defined"
     ]
    }
   ],
   "source": [
    "model"
   ]
  },
  {
   "cell_type": "code",
   "execution_count": 4,
   "metadata": {},
   "outputs": [],
   "source": [
    "device = torch.device('cuda:0') if torch.cuda.is_available() else torch.device('cpu')\n",
    "\n",
    "model = TextRnn(vocab_size=vocab_size, embedding_dim=50, class_num=5,hidden_size=128, embedding_pretrained = embed_pretrain, device=device)\n",
    "\n",
    "optim = optim.Adam(model.parameters(), lr=lr)\n",
    "loss_function = nn.CrossEntropyLoss()\n",
    "\n",
    "loss_history = []\n",
    "train_acc_history = []\n",
    "test_acc_history = []\n",
    "\n",
    "model.to(device)\n",
    "\n",
    "model.train()\n",
    "losses = []\n",
    "count = 0\n",
    "for idx,(x,y) in enumerate(train_loader):\n",
    "    # if len(x) < batch_size:\n",
    "    #     break\n",
    "    x,y = x.to(device),y.to(device)\n",
    "    \n",
    "    pred = model(x)\n",
    "    optim.zero_grad()\n",
    "    loss = loss_function(pred,y)\n",
    "    loss.backward()\n",
    "    losses.append(loss.item())\n",
    "    optim.step()\n",
    "train_loss = np.mean(losses)\n",
    "loss_history.append(losses)"
   ]
  },
  {
   "cell_type": "code",
   "execution_count": 5,
   "metadata": {},
   "outputs": [
    {
     "data": {
      "text/plain": [
       "1.6196707685992144"
      ]
     },
     "execution_count": 5,
     "metadata": {},
     "output_type": "execute_result"
    }
   ],
   "source": [
    "train_loss"
   ]
  },
  {
   "cell_type": "code",
   "execution_count": 6,
   "metadata": {},
   "outputs": [],
   "source": [
    "model.eval()\n",
    "\n",
    "test_acces = []\n",
    "for idx,(x,y) in enumerate(test_loader):\n",
    "    x = x.to(device)\n",
    "    y = y.numpy()\n",
    "    y_pred = model(x).cpu()\n",
    "    # print(y_pred)\n",
    "    y_pred = np.argmax(y_pred.detach().numpy(),1)\n",
    "    # print(y_pred)\n",
    "    acc = np.mean(y_pred == y, dtype=np.float)\n",
    "    test_acces.append(acc)\n",
    "test_acc = np.mean(test_acces)\n",
    "test_acc_history.append(test_acces)"
   ]
  },
  {
   "cell_type": "code",
   "execution_count": 8,
   "metadata": {},
   "outputs": [
    {
     "data": {
      "text/plain": [
       "0.5004482581967213"
      ]
     },
     "execution_count": 8,
     "metadata": {},
     "output_type": "execute_result"
    }
   ],
   "source": [
    "test_acc"
   ]
  },
  {
   "cell_type": "code",
   "execution_count": 7,
   "metadata": {},
   "outputs": [
    {
     "data": {
      "text/plain": [
       "5.070047128053887"
      ]
     },
     "execution_count": 7,
     "metadata": {},
     "output_type": "execute_result"
    }
   ],
   "source": [
    "train_loss"
   ]
  },
  {
   "cell_type": "code",
   "execution_count": 9,
   "metadata": {},
   "outputs": [],
   "source": [
    "model = TextRnn(vocab_size=vocab_size, embedding_dim=50, class_num=5,hidden_size=128, embedding_pretrained = embed_pretrain)"
   ]
  },
  {
   "cell_type": "code",
   "execution_count": 10,
   "metadata": {},
   "outputs": [
    {
     "data": {
      "text/plain": [
       "TextRnn(\n",
       "  (embedding_layer): Embedding(16532, 50, padding_idx=50)\n",
       "  (rnn_layer): RNN(50, 128, batch_first=True)\n",
       "  (linear_layer): Linear(in_features=128, out_features=5, bias=True)\n",
       ")"
      ]
     },
     "execution_count": 10,
     "metadata": {},
     "output_type": "execute_result"
    }
   ],
   "source": [
    "model\n"
   ]
  },
  {
   "cell_type": "code",
   "execution_count": null,
   "metadata": {},
   "outputs": [],
   "source": []
  }
 ],
 "metadata": {
  "kernelspec": {
   "display_name": "Python 3",
   "language": "python",
   "name": "python3"
  },
  "language_info": {
   "codemirror_mode": {
    "name": "ipython",
    "version": 3
   },
   "file_extension": ".py",
   "mimetype": "text/x-python",
   "name": "python",
   "nbconvert_exporter": "python",
   "pygments_lexer": "ipython3",
   "version": "3.7.9"
  }
 },
 "nbformat": 4,
 "nbformat_minor": 4
}
